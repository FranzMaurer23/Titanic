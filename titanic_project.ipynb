{
 "cells": [
  {
   "cell_type": "code",
   "execution_count": 141,
   "metadata": {},
   "outputs": [],
   "source": [
    "import numpy as np \n",
    "import pandas as pd \n",
    "import seaborn as sns\n",
    "from matplotlib import pyplot as plt\n",
    "from matplotlib import style\n",
    "from sklearn import linear_model\n",
    "from sklearn.linear_model import LogisticRegression\n",
    "from sklearn.tree import DecisionTreeClassifier\n",
    "from sklearn.model_selection import train_test_split\n",
    "from sklearn.preprocessing import StandardScaler\n",
    "from sklearn.model_selection import GridSearchCV\n",
    "from sklearn.metrics import accuracy_score"
   ]
  },
  {
   "cell_type": "code",
   "execution_count": 142,
   "metadata": {},
   "outputs": [],
   "source": [
    "df = pd.read_csv('titanic.csv', decimal=\",\")"
   ]
  },
  {
   "cell_type": "code",
   "execution_count": 143,
   "metadata": {},
   "outputs": [
    {
     "data": {
      "text/html": [
       "<div>\n",
       "<style scoped>\n",
       "    .dataframe tbody tr th:only-of-type {\n",
       "        vertical-align: middle;\n",
       "    }\n",
       "\n",
       "    .dataframe tbody tr th {\n",
       "        vertical-align: top;\n",
       "    }\n",
       "\n",
       "    .dataframe thead th {\n",
       "        text-align: right;\n",
       "    }\n",
       "</style>\n",
       "<table border=\"1\" class=\"dataframe\">\n",
       "  <thead>\n",
       "    <tr style=\"text-align: right;\">\n",
       "      <th></th>\n",
       "      <th>Total</th>\n",
       "      <th>%</th>\n",
       "    </tr>\n",
       "  </thead>\n",
       "  <tbody>\n",
       "    <tr>\n",
       "      <th>cabin</th>\n",
       "      <td>774</td>\n",
       "      <td>74.0</td>\n",
       "    </tr>\n",
       "    <tr>\n",
       "      <th>home.dest</th>\n",
       "      <td>361</td>\n",
       "      <td>34.5</td>\n",
       "    </tr>\n",
       "    <tr>\n",
       "      <th>embarked</th>\n",
       "      <td>2</td>\n",
       "      <td>0.2</td>\n",
       "    </tr>\n",
       "    <tr>\n",
       "      <th>fare</th>\n",
       "      <td>1</td>\n",
       "      <td>0.1</td>\n",
       "    </tr>\n",
       "    <tr>\n",
       "      <th>ticket</th>\n",
       "      <td>0</td>\n",
       "      <td>0.0</td>\n",
       "    </tr>\n",
       "    <tr>\n",
       "      <th>parch</th>\n",
       "      <td>0</td>\n",
       "      <td>0.0</td>\n",
       "    </tr>\n",
       "    <tr>\n",
       "      <th>sibsp</th>\n",
       "      <td>0</td>\n",
       "      <td>0.0</td>\n",
       "    </tr>\n",
       "    <tr>\n",
       "      <th>age</th>\n",
       "      <td>0</td>\n",
       "      <td>0.0</td>\n",
       "    </tr>\n",
       "    <tr>\n",
       "      <th>sex</th>\n",
       "      <td>0</td>\n",
       "      <td>0.0</td>\n",
       "    </tr>\n",
       "    <tr>\n",
       "      <th>name</th>\n",
       "      <td>0</td>\n",
       "      <td>0.0</td>\n",
       "    </tr>\n",
       "  </tbody>\n",
       "</table>\n",
       "</div>"
      ],
      "text/plain": [
       "           Total     %\n",
       "cabin        774  74.0\n",
       "home.dest    361  34.5\n",
       "embarked       2   0.2\n",
       "fare           1   0.1\n",
       "ticket         0   0.0\n",
       "parch          0   0.0\n",
       "sibsp          0   0.0\n",
       "age            0   0.0\n",
       "sex            0   0.0\n",
       "name           0   0.0"
      ]
     },
     "execution_count": 143,
     "metadata": {},
     "output_type": "execute_result"
    }
   ],
   "source": [
    "total = df.isnull().sum().sort_values(ascending=False)\n",
    "percent_1 = df.isnull().sum()/len(df)*100\n",
    "percent_2 = (round(percent_1, 1)).sort_values(ascending=False)\n",
    "missing_data = pd.concat([total, percent_2], axis=1, keys=['Total', '%'])\n",
    "missing_data.head(10)"
   ]
  },
  {
   "cell_type": "code",
   "execution_count": 144,
   "metadata": {},
   "outputs": [],
   "source": [
    "k = df['embarked'].describe()\n",
    "df['embarked'] = df['embarked'].fillna(k['top'])\n",
    "\n",
    "i = (df['fare'] == np.nan).index[0]\n",
    "list = df.index[df['pclass'] == df['pclass'][i]].tolist()\n",
    "df['fare'] = df['fare'].fillna(np.mean(df['fare'][list]))\n",
    "\n",
    "import re\n",
    "deck = {\"A\": 1, \"B\": 2, \"C\": 3, \"D\": 4, \"E\": 5, \"F\": 6, \"G\": 7, \"U\": 8}\n",
    "\n",
    "df['cabin'] = df['cabin'].fillna(\"U0\")\n",
    "df['deck'] = df['cabin'].map(lambda x: re.compile(\"([a-zA-Z]+)\").search(x).group())\n",
    "df['deck'] = df['deck'].map(deck)\n",
    "df['deck'] = df['deck'].fillna(0)\n",
    "df['deck'] = df['deck'].astype(int)\n",
    "df = df.drop(['cabin'], axis=1)\n",
    "\n",
    "#categorical age and fare\n",
    "df['age_cat'] = pd.qcut(df['age'],7, labels=[0, 1, 2, 3, 4, 5, 6])\n",
    "df['fare_cat'] = pd.qcut(df['fare'],7, labels=[0, 1, 2, 3, 4, 5, 6])"
   ]
  },
  {
   "cell_type": "code",
   "execution_count": 145,
   "metadata": {},
   "outputs": [],
   "source": [
    "df = df.drop(['ticket', 'name', 'home.dest'], axis = 1)"
   ]
  },
  {
   "cell_type": "code",
   "execution_count": 146,
   "metadata": {},
   "outputs": [],
   "source": [
    "df_reg = pd.get_dummies(df.drop(['fare', 'age'], axis = 1), columns = ['embarked', 'sex', 'age_cat', 'fare_cat', 'deck'], drop_first=True)\n",
    "df_tree = pd.get_dummies(df.drop(['fare_cat', 'age_cat', ], axis = 1), columns = ['embarked', 'sex', 'deck'])"
   ]
  },
  {
   "cell_type": "code",
   "execution_count": 147,
   "metadata": {},
   "outputs": [],
   "source": [
    "X_tree = df_tree.drop(['survived'], axis=1)\n",
    "X_reg = df_reg.drop(['survived'], axis=1)\n",
    "y_tree = df_tree['survived']\n",
    "y_reg = df_reg['survived']\n",
    "X_train_tree, X_test_tree, y_train_tree, y_test_tree = train_test_split(X_tree, y_tree, test_size=0.3, random_state=42)\n",
    "X_train_reg, X_test_reg, y_train_reg, y_test_reg = train_test_split(X_reg, y_reg, test_size=0.3, random_state=42)"
   ]
  },
  {
   "cell_type": "code",
   "execution_count": 148,
   "metadata": {},
   "outputs": [
    {
     "data": {
      "text/plain": [
       "array([ 2.,  3.,  4.,  5.,  6.,  7.,  8.,  9., 10., 11., 12., 13., 14.,\n",
       "       15., 16., 17., 18., 19., 20., 21., 22., 23., 24., 25., 26., 27.,\n",
       "       28., 29., 30., 31., 32., 33., 34., 35., 36., 37., 38., 39., 40.])"
      ]
     },
     "execution_count": 148,
     "metadata": {},
     "output_type": "execute_result"
    }
   ],
   "source": [
    "np.linspace(2,40,39)"
   ]
  },
  {
   "cell_type": "code",
   "execution_count": 155,
   "metadata": {},
   "outputs": [],
   "source": [
    "grid_tree = {\"max_depth\":[5, 10, 15, 20, 25]}\n",
    "\n",
    "decision_tree = DecisionTreeClassifier()\n",
    "decision_tree_cv = GridSearchCV(decision_tree, grid_tree)\n",
    "\n",
    "decision_tree_cv.fit(X_train_tree, y_train_tree)  \n",
    "y_pred_tree = decision_tree_cv.predict(X_test_tree)\n",
    "score_decision_tree = accuracy_score(y_pred_tree, y_test_tree)"
   ]
  },
  {
   "cell_type": "code",
   "execution_count": 156,
   "metadata": {},
   "outputs": [],
   "source": [
    "scaler = StandardScaler()\n",
    "X_train_reg_std = scaler.fit_transform(X_train_reg)\n",
    "X_test_reg_std = scaler.fit_transform(X_test_reg)"
   ]
  },
  {
   "cell_type": "code",
   "execution_count": 157,
   "metadata": {},
   "outputs": [],
   "source": [
    "grid_reg = {\"C\":[0.001, 0.01, 0.1, 1, 10, 100]}\n",
    "\n",
    "logreg = LogisticRegression()\n",
    "logreg_cv = GridSearchCV(logreg, grid_reg)\n",
    "\n",
    "logreg_cv.fit(X_train_reg_std, y_train_reg)\n",
    "y_pred_reg = logreg_cv.predict(X_test_reg_std)\n",
    "score_log_reg = accuracy_score(y_pred_reg, y_test_reg)"
   ]
  },
  {
   "cell_type": "code",
   "execution_count": 158,
   "metadata": {},
   "outputs": [
    {
     "name": "stdout",
     "output_type": "stream",
     "text": [
      "Decision tree accuracy:  0.7707006369426752\n",
      "Logistic regression accuracy:  0.802547770700637\n",
      "Logistic regression c parameter from gridsearch  {'C': 10}\n",
      "Decision tree max_depth parameter from gridsearch  {'max_depth': 5}\n"
     ]
    }
   ],
   "source": [
    "print(\"Decision tree accuracy: \", score_decision_tree)\n",
    "print(\"Logistic regression accuracy: \", score_log_reg)\n",
    "print(\"Logistic regression c parameter from gridsearch \", logreg_cv.best_params_)\n",
    "print(\"Decision tree max_depth parameter from gridsearch \", decision_tree_cv.best_params_)"
   ]
  },
  {
   "cell_type": "code",
   "execution_count": null,
   "metadata": {},
   "outputs": [],
   "source": []
  }
 ],
 "metadata": {
  "kernelspec": {
   "display_name": "Python 3",
   "language": "python",
   "name": "python3"
  },
  "language_info": {
   "codemirror_mode": {
    "name": "ipython",
    "version": 3
   },
   "file_extension": ".py",
   "mimetype": "text/x-python",
   "name": "python",
   "nbconvert_exporter": "python",
   "pygments_lexer": "ipython3",
   "version": "3.8.3"
  }
 },
 "nbformat": 4,
 "nbformat_minor": 4
}
